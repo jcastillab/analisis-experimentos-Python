{
 "cells": [
  {
   "cell_type": "code",
   "execution_count": 2,
   "metadata": {},
   "outputs": [],
   "source": [
    "import pandas as pd\n",
    "import numpy as np\n",
    "import seaborn as sns\n",
    "import random\n",
    "import statsmodels.api as sm\n",
    "from scipy import stats\n",
    "import matplotlib.pyplot as plt \n",
    "import seaborn as sns\n",
    "import statsmodels.api as sa\n",
    "import statsmodels.formula.api as smf\n",
    "from statsmodels.stats.multicomp import pairwise_tukeyhsd"
   ]
  },
  {
   "cell_type": "code",
   "execution_count": 4,
   "metadata": {},
   "outputs": [
    {
     "data": {
      "text/html": [
       "<div>\n",
       "<style scoped>\n",
       "    .dataframe tbody tr th:only-of-type {\n",
       "        vertical-align: middle;\n",
       "    }\n",
       "\n",
       "    .dataframe tbody tr th {\n",
       "        vertical-align: top;\n",
       "    }\n",
       "\n",
       "    .dataframe thead th {\n",
       "        text-align: right;\n",
       "    }\n",
       "</style>\n",
       "<table border=\"1\" class=\"dataframe\">\n",
       "  <thead>\n",
       "    <tr style=\"text-align: right;\">\n",
       "      <th></th>\n",
       "      <th></th>\n",
       "      <th>count</th>\n",
       "      <th>mean</th>\n",
       "      <th>std</th>\n",
       "      <th>min</th>\n",
       "      <th>25%</th>\n",
       "      <th>50%</th>\n",
       "      <th>75%</th>\n",
       "      <th>max</th>\n",
       "    </tr>\n",
       "    <tr>\n",
       "      <th>Treatment</th>\n",
       "      <th>bloque</th>\n",
       "      <th></th>\n",
       "      <th></th>\n",
       "      <th></th>\n",
       "      <th></th>\n",
       "      <th></th>\n",
       "      <th></th>\n",
       "      <th></th>\n",
       "      <th></th>\n",
       "    </tr>\n",
       "  </thead>\n",
       "  <tbody>\n",
       "    <tr>\n",
       "      <th rowspan=\"3\" valign=\"top\">T1</th>\n",
       "      <th>b1</th>\n",
       "      <td>5.0</td>\n",
       "      <td>15.13</td>\n",
       "      <td>0.11</td>\n",
       "      <td>14.98</td>\n",
       "      <td>15.07</td>\n",
       "      <td>15.14</td>\n",
       "      <td>15.18</td>\n",
       "      <td>15.27</td>\n",
       "    </tr>\n",
       "    <tr>\n",
       "      <th>b2</th>\n",
       "      <td>5.0</td>\n",
       "      <td>15.21</td>\n",
       "      <td>0.28</td>\n",
       "      <td>14.80</td>\n",
       "      <td>15.02</td>\n",
       "      <td>15.35</td>\n",
       "      <td>15.41</td>\n",
       "      <td>15.45</td>\n",
       "    </tr>\n",
       "    <tr>\n",
       "      <th>b3</th>\n",
       "      <td>5.0</td>\n",
       "      <td>15.00</td>\n",
       "      <td>0.22</td>\n",
       "      <td>14.87</td>\n",
       "      <td>14.89</td>\n",
       "      <td>14.90</td>\n",
       "      <td>14.96</td>\n",
       "      <td>15.38</td>\n",
       "    </tr>\n",
       "    <tr>\n",
       "      <th rowspan=\"3\" valign=\"top\">T2</th>\n",
       "      <th>b1</th>\n",
       "      <td>5.0</td>\n",
       "      <td>25.01</td>\n",
       "      <td>0.94</td>\n",
       "      <td>23.79</td>\n",
       "      <td>24.31</td>\n",
       "      <td>25.22</td>\n",
       "      <td>25.74</td>\n",
       "      <td>25.98</td>\n",
       "    </tr>\n",
       "    <tr>\n",
       "      <th>b2</th>\n",
       "      <td>5.0</td>\n",
       "      <td>24.91</td>\n",
       "      <td>0.56</td>\n",
       "      <td>24.54</td>\n",
       "      <td>24.67</td>\n",
       "      <td>24.70</td>\n",
       "      <td>24.74</td>\n",
       "      <td>25.91</td>\n",
       "    </tr>\n",
       "    <tr>\n",
       "      <th>b3</th>\n",
       "      <td>5.0</td>\n",
       "      <td>25.04</td>\n",
       "      <td>0.66</td>\n",
       "      <td>24.09</td>\n",
       "      <td>24.69</td>\n",
       "      <td>25.28</td>\n",
       "      <td>25.30</td>\n",
       "      <td>25.83</td>\n",
       "    </tr>\n",
       "    <tr>\n",
       "      <th rowspan=\"3\" valign=\"top\">T3</th>\n",
       "      <th>b1</th>\n",
       "      <td>5.0</td>\n",
       "      <td>20.80</td>\n",
       "      <td>1.21</td>\n",
       "      <td>19.03</td>\n",
       "      <td>20.59</td>\n",
       "      <td>20.87</td>\n",
       "      <td>21.06</td>\n",
       "      <td>22.43</td>\n",
       "    </tr>\n",
       "    <tr>\n",
       "      <th>b2</th>\n",
       "      <td>5.0</td>\n",
       "      <td>19.56</td>\n",
       "      <td>0.54</td>\n",
       "      <td>18.72</td>\n",
       "      <td>19.36</td>\n",
       "      <td>19.76</td>\n",
       "      <td>19.80</td>\n",
       "      <td>20.13</td>\n",
       "    </tr>\n",
       "    <tr>\n",
       "      <th>b3</th>\n",
       "      <td>5.0</td>\n",
       "      <td>19.73</td>\n",
       "      <td>1.37</td>\n",
       "      <td>17.50</td>\n",
       "      <td>19.52</td>\n",
       "      <td>20.02</td>\n",
       "      <td>20.77</td>\n",
       "      <td>20.85</td>\n",
       "    </tr>\n",
       "  </tbody>\n",
       "</table>\n",
       "</div>"
      ],
      "text/plain": [
       "                  count   mean   std    min    25%    50%    75%    max\n",
       "Treatment bloque                                                       \n",
       "T1        b1        5.0  15.13  0.11  14.98  15.07  15.14  15.18  15.27\n",
       "          b2        5.0  15.21  0.28  14.80  15.02  15.35  15.41  15.45\n",
       "          b3        5.0  15.00  0.22  14.87  14.89  14.90  14.96  15.38\n",
       "T2        b1        5.0  25.01  0.94  23.79  24.31  25.22  25.74  25.98\n",
       "          b2        5.0  24.91  0.56  24.54  24.67  24.70  24.74  25.91\n",
       "          b3        5.0  25.04  0.66  24.09  24.69  25.28  25.30  25.83\n",
       "T3        b1        5.0  20.80  1.21  19.03  20.59  20.87  21.06  22.43\n",
       "          b2        5.0  19.56  0.54  18.72  19.36  19.76  19.80  20.13\n",
       "          b3        5.0  19.73  1.37  17.50  19.52  20.02  20.77  20.85"
      ]
     },
     "execution_count": 4,
     "metadata": {},
     "output_type": "execute_result"
    }
   ],
   "source": [
    "df=pd.DataFrame({\n",
    "    \"Treatment\":np.repeat([\"T1\",\"T2\",\"T3\"],15),\n",
    "    \"bloque\":np.tile(np.repeat([\"b1\",\"b2\",\"b3\"],5),3),\n",
    "    \"Rto\":np.concatenate((np.random.normal(15,0.3,15),\n",
    "                          np.random.normal(25,0.8,15),\n",
    "                          np.random.normal(20,1.2,15)))\n",
    "})\n",
    "df.groupby([\"Treatment\",\"bloque\"])[\"Rto\"].describe().round(2)"
   ]
  },
  {
   "cell_type": "code",
   "execution_count": 5,
   "metadata": {},
   "outputs": [
    {
     "name": "stdout",
     "output_type": "stream",
     "text": [
      "             df      sum_sq     mean_sq           F        PR(>F)\n",
      "Treatment   2.0  731.035316  365.517658  592.596259  1.892836e-30\n",
      "bloque      2.0    1.640915    0.820457    1.330168  2.758763e-01\n",
      "Residual   40.0   24.672289    0.616807         NaN           NaN\n"
     ]
    }
   ],
   "source": [
    "mod = smf.ols('Rto ~ Treatment + bloque', data = df).fit()\n",
    "anova=sa.stats.anova_lm(mod)\n",
    "print(anova)"
   ]
  },
  {
   "cell_type": "code",
   "execution_count": 6,
   "metadata": {},
   "outputs": [
    {
     "data": {
      "text/plain": [
       "<matplotlib.lines.Line2D at 0x25a90899c70>"
      ]
     },
     "execution_count": 6,
     "metadata": {},
     "output_type": "execute_result"
    },
    {
     "data": {
      "image/png": "[encoded data removed]",
      "text/plain": [
       "<Figure size 640x480 with 1 Axes>"
      ]
     },
     "metadata": {},
     "output_type": "display_data"
    }
   ],
   "source": [
    "graf=sns.boxplot(y = df['Rto'], x = df['Treatment'], data = df,showmeans=True,\n",
    "            meanprops={\"marker\": \"*\",\n",
    "                       \"markeredgecolor\": \"black\",\n",
    "                       \"markersize\": \"10\"},\n",
    "            order=[\"T1\",\"T2\",\"T3\"])\n",
    "graf.axhline(df[\"Rto\"].mean(),color=\"red\")"
   ]
  },
  {
   "cell_type": "code",
   "execution_count": 7,
   "metadata": {},
   "outputs": [
    {
     "data": {
      "text/plain": [
       "ShapiroResult(statistic=0.9424418896904795, pvalue=0.026461268687100036)"
      ]
     },
     "execution_count": 7,
     "metadata": {},
     "output_type": "execute_result"
    }
   ],
   "source": [
    "# Supuestos\n",
    "predichos = mod.predict()\n",
    "predichos\n",
    "residuos = df['Rto'] - predichos\n",
    "\n",
    "# normalidad\n",
    "stats.shapiro(residuos)"
   ]
  },
  {
   "cell_type": "code",
   "execution_count": 8,
   "metadata": {},
   "outputs": [
    {
     "data": {
      "image/png": "[encoded data removed]",
      "text/plain": [
       "<Figure size 700x400 with 1 Axes>"
      ]
     },
     "metadata": {},
     "output_type": "display_data"
    }
   ],
   "source": [
    "# qq plot\n",
    "fig, ax = plt.subplots(figsize=(7,4))\n",
    "sm.qqplot(\n",
    "    residuos,\n",
    "    fit   = True,\n",
    "    line  = 'q',\n",
    "    alpha = 0.4,\n",
    "    lw    = 2,\n",
    "    ax    = ax\n",
    ")\n",
    "ax.set_title('Gráfico Q-Q ', fontsize = 10,\n",
    "             fontweight = \"bold\")\n",
    "ax.tick_params(labelsize = 7)"
   ]
  },
  {
   "cell_type": "code",
   "execution_count": 9,
   "metadata": {},
   "outputs": [
    {
     "data": {
      "text/plain": [
       "BartlettResult(statistic=28.338553138053918, pvalue=7.020392175487486e-07)"
      ]
     },
     "execution_count": 9,
     "metadata": {},
     "output_type": "execute_result"
    }
   ],
   "source": [
    "# homocedasticidad\n",
    "stats.bartlett(df[df['Treatment'] == 'T1']['Rto'],\n",
    "              df[df['Treatment'] == 'T2']['Rto'],\n",
    "              df[df['Treatment'] == 'T3']['Rto'])"
   ]
  },
  {
   "cell_type": "code",
   "execution_count": 10,
   "metadata": {},
   "outputs": [
    {
     "name": "stdout",
     "output_type": "stream",
     "text": [
      "Multiple Comparison of Means - Tukey HSD, FWER=0.05\n",
      "===================================================\n",
      "group1 group2 meandiff p-adj  lower   upper  reject\n",
      "---------------------------------------------------\n",
      "    T1     T2   9.8727   0.0  9.1706 10.5749   True\n",
      "    T1     T3   4.9151   0.0   4.213  5.6173   True\n",
      "    T2     T3  -4.9576   0.0 -5.6598 -4.2554   True\n",
      "---------------------------------------------------\n"
     ]
    }
   ],
   "source": [
    "# tukey\n",
    "print(pairwise_tukeyhsd(endog = df ['Rto'],\n",
    "                          groups = df['Treatment'],\n",
    "                          alpha = 0.05 ))"
   ]
  }
 ],
 "metadata": {
  "kernelspec": {
   "display_name": "Python 3",
   "language": "python",
   "name": "python3"
  },
  "language_info": {
   "codemirror_mode": {
    "name": "ipython",
    "version": 3
   },
   "file_extension": ".py",
   "mimetype": "text/x-python",
   "name": "python",
   "nbconvert_exporter": "python",
   "pygments_lexer": "ipython3",
   "version": "3.12.2"
  }
 },
 "nbformat": 4,
 "nbformat_minor": 2
}
